{
 "cells": [
  {
   "cell_type": "code",
   "execution_count": null,
   "metadata": {},
   "outputs": [],
   "source": [
    "import numpy as np\n",
    "import matplotlib.pyplot as plt\n",
    "from adv_disp_eqn import adv_disp_sewage, plot_concentrations_at_timesteps, plot_concentration_over_time\n",
    "\n",
    "x, t, C = adv_disp_sewage(duration_days =7, D=100, endtime=4)\n",
    "\n"
   ]
  },
  {
   "cell_type": "code",
   "execution_count": null,
   "metadata": {},
   "outputs": [],
   "source": [
    "plot_concentrations_at_timesteps(x,C, timesteps=[1,50,150])"
   ]
  },
  {
   "cell_type": "code",
   "execution_count": null,
   "metadata": {},
   "outputs": [],
   "source": [
    "plot_concentration_over_time(t,C)"
   ]
  },
  {
   "cell_type": "markdown",
   "metadata": {},
   "source": [
    "### Making animations"
   ]
  },
  {
   "cell_type": "code",
   "execution_count": null,
   "metadata": {},
   "outputs": [],
   "source": [
    "#For this to work ffmpeg has to be available on your machine. In windows, you may need ffmpeg.exe.\n",
    "#One way to accomplish this is to download ffmpeg.exe (it's free) and put it into the same directory as this file.\n",
    "#Then replace the text below with r'.\\ffmpeg.exe'\n",
    "from matplotlib import animation\n",
    "plt.rcParams['animation.ffmpeg_path']= r'ffmpeg'\n",
    "fig = plt.figure()\n",
    "plt.plot(x,C[0])\n",
    "ax = plt.gca()\n",
    "FFMpegWriter = animation.writers['ffmpeg']\n",
    "writer = FFMpegWriter(fps=30)\n",
    "with writer.saving(fig, \"adv-disp-animation-fast.mp4\",100):\n",
    "    for n in np.arange(0,len(t)):\n",
    "        if n % 10 == 0:\n",
    "            print(\"Making frame:\",n)\n",
    "        ax.clear()\n",
    "        ax.plot(x,C[n,:])\n",
    "        plt.ylim([0,1.1])\n",
    "        plt.xlabel('Distance Downstream (dimensionless)')\n",
    "        plt.ylabel('Concentration')\n",
    "        writer.grab_frame()\n",
    "        "
   ]
  },
  {
   "cell_type": "code",
   "execution_count": null,
   "metadata": {},
   "outputs": [],
   "source": []
  }
 ],
 "metadata": {
  "kernelspec": {
   "display_name": "Python 3",
   "name": "python3"
  },
  "language_info": {
   "codemirror_mode": {
    "name": "ipython",
    "version": 3
   },
   "file_extension": ".py",
   "mimetype": "text/x-python",
   "name": "python",
   "nbconvert_exporter": "python",
   "pygments_lexer": "ipython3",
   "version": "3.9.15"
  },
  "orig_nbformat": 2
 },
 "nbformat": 4,
 "nbformat_minor": 2
}
