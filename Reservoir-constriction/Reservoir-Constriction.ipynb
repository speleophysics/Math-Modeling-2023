{
 "cells": [
  {
   "cell_type": "code",
   "execution_count": 21,
   "id": "75e1d538-a205-47fc-aab4-faa1bd943174",
   "metadata": {
    "tags": []
   },
   "outputs": [
    {
     "data": {
      "text/plain": [
       "Text(0, 0.5, 'Head (m)')"
      ]
     },
     "execution_count": 21,
     "metadata": {},
     "output_type": "execute_result"
    },
    {
     "data": {
      "image/png": "[encoded data removed]",
      "text/plain": [
       "<Figure size 640x480 with 1 Axes>"
      ]
     },
     "metadata": {},
     "output_type": "display_data"
    }
   ],
   "source": [
    "# import functions we need\n",
    "import numpy as np\n",
    "import matplotlib.pyplot as plt\n",
    "from scipy.integrate import odeint\n",
    "from scipy.optimize import root_scalar\n",
    "\n",
    "\n",
    "# Define parameters\n",
    "L = 1000 # m\n",
    "f = 0.1 # unitless\n",
    "D_H = 1. # m\n",
    "A_R = 5000. #m^2\n",
    "R_i = 1. #m^3/s\n",
    "R_f = 2. #m^3/s\n",
    "g = 9.8 # m^2/s\n",
    "C_f = 1. + f*L/D_H\n",
    "A_c = np.pi * D_H**2 / 4.\n",
    "\n",
    "# set initial conditions and time array for solution\n",
    "h_i = C_f/(2*g) * (R_i/A_c)**2\n",
    "h_f = C_f/(2*g) * (R_f/A_c)**2\n",
    "tau = A_R*C_f*R_f / (2*g*A_c**2)\n",
    "t_end = tau*5\n",
    "n = 500\n",
    "t = np.linspace(0, t_end, n)\n",
    "\n",
    "# Create function that calculates discharge\n",
    "def Q(h):\n",
    "    return A_c * np.sqrt(2*g*h/C_f)\n",
    "\n",
    "# Create function that calculates dh_dt\n",
    "def dh_dt(h, t, R):\n",
    "    thisQ = Q(h)\n",
    "    return (R - thisQ)/A_R\n",
    "\n",
    "# Create a function for root finding of analytical solution\n",
    "def ana(h, t_sol):\n",
    "    Q_sol = Q(h)\n",
    "    return t_sol - A_R*C_f/(g*A_c**2) * (-Q_sol + R_i - R_f*np.log(np.abs( (R_f - Q_sol) / (R_f - R_i) ) ) )\n",
    "\n",
    "h_ana = np.zeros(n)\n",
    "for i, t_sol in enumerate(t):\n",
    "    # print(t_sol)\n",
    "    if t_sol > 0:\n",
    "        sol = root_scalar(ana, args=(t_sol,), bracket=(h_i, h_f))\n",
    "        h_ana[i] = sol.root\n",
    "h_ana[0] = h_i\n",
    "\n",
    "# Solve using odeint\n",
    "h = odeint(dh_dt, h_i, t, args=(R_f,))\n",
    "\n",
    "# Plot the solution\n",
    "plt.plot(t, h)\n",
    "plt.plot(t, h_ana, '--')\n",
    "plt.xlabel('Time (sec)')\n",
    "plt.ylabel('Head (m)')"
   ]
  },
  {
   "cell_type": "code",
   "execution_count": 20,
   "id": "e70f0f73-6333-4d8c-b285-459b1b3e6f0d",
   "metadata": {},
   "outputs": [],
   "source": [
    "from scipy.optimize import root_scalar\n",
    "\n",
    "# Create a function for root finding of analytical solution\n",
    "def ana(h, t_sol):\n",
    "    Q_sol = Q(h)\n",
    "    return t_sol - A_R*C_f/(g*A_c**2) * (-Q_sol + R_i - R_f*np.log(np.abs( (R_f - Q_sol) / (R_f - R_i) ) ) )\n",
    "\n",
    "h_ana = np.zeros(n)\n",
    "for i, t_sol in enumerate(t):\n",
    "    # print(t_sol)\n",
    "    if t_sol > 0:\n",
    "        sol = root_scalar(ana, args=(t_sol,), bracket=(h_i, h_f))\n",
    "        h_ana[i] = sol.root\n",
    "h_ana[0] = h_i"
   ]
  },
  {
   "cell_type": "code",
   "execution_count": 16,
   "id": "6ed67226-3d1d-4f7e-b63d-38374f9985cd",
   "metadata": {
    "tags": []
   },
   "outputs": [
    {
     "data": {
      "text/plain": [
       "      converged: True\n",
       "           flag: 'converged'\n",
       " function_calls: 7\n",
       "     iterations: 6\n",
       "           root: 8.373816241329589"
      ]
     },
     "execution_count": 16,
     "metadata": {},
     "output_type": "execute_result"
    }
   ],
   "source": [
    "sol"
   ]
  },
  {
   "cell_type": "code",
   "execution_count": null,
   "id": "94869db1-4d4b-40e9-9d9f-7d3b72d9dc07",
   "metadata": {},
   "outputs": [],
   "source": []
  }
 ],
 "metadata": {
  "kernelspec": {
   "display_name": "Python 3 (ipykernel)",
   "language": "python",
   "name": "python3"
  },
  "language_info": {
   "codemirror_mode": {
    "name": "ipython",
    "version": 3
   },
   "file_extension": ".py",
   "mimetype": "text/x-python",
   "name": "python",
   "nbconvert_exporter": "python",
   "pygments_lexer": "ipython3",
   "version": "3.11.3"
  }
 },
 "nbformat": 4,
 "nbformat_minor": 5
}
