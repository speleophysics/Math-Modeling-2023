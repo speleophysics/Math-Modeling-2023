#import functions we need
import numpy as np
import matplotlib.pyplot as plt
from scipy.integrate import odeint

def run_sim(omega,
            A_R1=5000,# m^2
            A_R2=50 # m^2
           ): 

    #Define parameters
    L=1000. #m
    D_H = 1. #m
    f = 0.1

    C_f = 1 + f*L/D_H 
    A_c = np.pi*D_H/4. # m^2
    g =9.8

    #Define the derivative as a function
    def Q(dh):
        return A_c * np.sqrt(2*g*np.abs(dh)/C_f)*np.abs(dh)/dh

    def R(t):
        return np.sin(omega*t) + 1.

    def dh_dt(h, t):
        h1 = h[0]
        h2 = h[1]
        this_R = R(t) 
        Q1 = Q(h1-h2)
        Q2 = Q(h2)
        dh1_dt = (R(t) - Q1)/A_R1
        dh2_dt = (Q1 - Q2)/A_R2
        return [dh1_dt, dh2_dt]

    P = 2*np.pi/omega
    print('P=',P)
    t_end = 3*P
    print('t_end=',t_end)
    t = np.linspace(0, t_end, 5000)

    R_avg = 1.
    h1_eq = C_f*R_avg**2./(g*A_c**2) 
    h2_eq = h1_eq/2. 

    #Solve using odeint
    h = odeint(dh_dt, [h1_eq, h2_eq], t)

    #Plot the solution
    h1 = h[:,0]
    h2 = h[:,1]
    plt.figure()
    print('h1=',h1[-10:]/h1_eq)
    plt.plot(t, h1/h1_eq)
    plt.plot(t, h2/h2_eq, '--')
    plt.plot(t, R(t), ':')
    plt.xlabel('Time (sec)')
    plt.ylabel('Normalized Head (m)')
    plt.legend(['h1','h2', 'R'])
    t_osc = P
    t_res_1 = h1_eq*A_R1/R_avg
    t_res_2 = h2_eq*A_R2/R_avg
    print("Dimensionless ratio 1 = ",t_osc/t_res_1)
    print("Dimensionless ratio 2 = ",t_osc/t_res_2)
    



run_sim(4e-6)





run_sim(4e-4)





run_sim(4e-2)





run_sim(4e-6, A_R1=50, A_R2=5000)





run_sim(4e-4, A_R1=50, A_R2=5000)





run_sim(4e-2, A_R1=50, A_R2=5000)






