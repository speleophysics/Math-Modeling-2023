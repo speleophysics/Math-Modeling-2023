{
 "cells": [
  {
   "cell_type": "code",
   "execution_count": 42,
   "metadata": {},
   "outputs": [],
   "source": [
    "# Imports\n",
    "import numpy as np\n",
    "import matplotlib.pyplot as plt\n",
    "from scipy.special import erf\n",
    "\n",
    "# Define parameters\n",
    "Fo = 0.5\n",
    "nx = 500\n",
    "nt = 10000\n",
    "m_per_km = 1000\n",
    "L = 100*m_per_km\n",
    "mm_per_m = 1000\n",
    "kappa = 1./mm_per_m/mm_per_m # thermal diffusivity 1 mm^2/s converted to m^2/s\n",
    "T_hot = 1600\n",
    "T_ocean = 0.\n",
    "\n",
    "# Define domain and create Temperature array, and set timesteps\n",
    "dx = nx/L\n",
    "dt = Fo*dx**2 / kappa\n",
    "x = np.arange(nx)*dx*m_per_km\n",
    "secs_per_year = 60*60*24*365\n",
    "t = np.arange(nt)*dt*secs_per_year\n",
    "T = np.zeros([nt, nx])\n",
    "\n",
    "# Set initial condition\n",
    "T[0,:] = T_hot\n",
    "# Set boundary conditions\n",
    "T[:,0] = T_ocean\n",
    "T[:,-1] = T_hot\n",
    "\n",
    "# Solve for temperature in loop\n",
    "for n in np.arange(nt-1):\n",
    "    T[n+1,1:-1] = Fo*T[n,2:] + (1 - 2*Fo)*T[n,1:-1] + Fo*T[n,0:-2]\n",
    "\n",
    "# Calculate analytical solution\n",
    "def T_ana(n):\n",
    "    j = np.arange(nx)\n",
    "    return T_ocean + (T_hot - T_ocean)*erf(0.5*np.sqrt(j**2/(Fo*n)))"
   ]
  },
  {
   "cell_type": "code",
   "execution_count": 5,
   "metadata": {},
   "outputs": [],
   "source": [
    "import matplotlib.pyplot as plt\n",
    "\n",
    "def plot_T_profile(n):\n",
    "    plt.plot(x, T[n,:])\n",
    "    plt.plot(x, T_ana(n), '--')\n",
    "    plt.xlabel('Depth (km)')\n",
    "    plt.ylabel('Temperature (C)')"
   ]
  },
  {
   "cell_type": "code",
   "execution_count": 6,
   "metadata": {},
   "outputs": [
    {
     "ename": "NameError",
     "evalue": "name 'x' is not defined",
     "output_type": "error",
     "traceback": [
      "\u001b[1;31m---------------------------------------------------------------------------\u001b[0m",
      "\u001b[1;31mNameError\u001b[0m                                 Traceback (most recent call last)",
      "\u001b[1;32mc:\\Users\\mcoving\\Documents\\Math-Modeling-2023\\heat-equation\\heat-equation.ipynb Cell 3\u001b[0m line \u001b[0;36m1\n\u001b[1;32m----> <a href='vscode-notebook-cell:/c%3A/Users/mcoving/Documents/Math-Modeling-2023/heat-equation/heat-equation.ipynb#W2sZmlsZQ%3D%3D?line=0'>1</a>\u001b[0m plot_T_profile(\u001b[39m25\u001b[39m)\n\u001b[0;32m      <a href='vscode-notebook-cell:/c%3A/Users/mcoving/Documents/Math-Modeling-2023/heat-equation/heat-equation.ipynb#W2sZmlsZQ%3D%3D?line=1'>2</a>\u001b[0m plot_T_profile(\u001b[39m50\u001b[39m)\n\u001b[0;32m      <a href='vscode-notebook-cell:/c%3A/Users/mcoving/Documents/Math-Modeling-2023/heat-equation/heat-equation.ipynb#W2sZmlsZQ%3D%3D?line=2'>3</a>\u001b[0m plot_T_profile(\u001b[39m75\u001b[39m)\n",
      "\u001b[1;32mc:\\Users\\mcoving\\Documents\\Math-Modeling-2023\\heat-equation\\heat-equation.ipynb Cell 3\u001b[0m line \u001b[0;36m4\n\u001b[0;32m      <a href='vscode-notebook-cell:/c%3A/Users/mcoving/Documents/Math-Modeling-2023/heat-equation/heat-equation.ipynb#W2sZmlsZQ%3D%3D?line=2'>3</a>\u001b[0m \u001b[39mdef\u001b[39;00m \u001b[39mplot_T_profile\u001b[39m(n):\n\u001b[1;32m----> <a href='vscode-notebook-cell:/c%3A/Users/mcoving/Documents/Math-Modeling-2023/heat-equation/heat-equation.ipynb#W2sZmlsZQ%3D%3D?line=3'>4</a>\u001b[0m     plt\u001b[39m.\u001b[39mplot(x, T[n,:])\n\u001b[0;32m      <a href='vscode-notebook-cell:/c%3A/Users/mcoving/Documents/Math-Modeling-2023/heat-equation/heat-equation.ipynb#W2sZmlsZQ%3D%3D?line=4'>5</a>\u001b[0m     plt\u001b[39m.\u001b[39mplot(x, T_ana(n), \u001b[39m'\u001b[39m\u001b[39m--\u001b[39m\u001b[39m'\u001b[39m)\n\u001b[0;32m      <a href='vscode-notebook-cell:/c%3A/Users/mcoving/Documents/Math-Modeling-2023/heat-equation/heat-equation.ipynb#W2sZmlsZQ%3D%3D?line=5'>6</a>\u001b[0m     plt\u001b[39m.\u001b[39mxlabel(\u001b[39m'\u001b[39m\u001b[39mDepth (km)\u001b[39m\u001b[39m'\u001b[39m)\n",
      "\u001b[1;31mNameError\u001b[0m: name 'x' is not defined"
     ]
    }
   ],
   "source": [
    "plot_T_profile(25)\n",
    "plot_T_profile(50)\n",
    "plot_T_profile(75)\n",
    "plot_T_profile(95)\n"
   ]
  },
  {
   "cell_type": "code",
   "execution_count": 12,
   "metadata": {},
   "outputs": [],
   "source": [
    "isotherm_idx = len(T[50,T[50]<1200]) - 1\n",
    "x[isotherm_idx]"
   ]
  },
  {
   "cell_type": "code",
   "execution_count": 45,
   "metadata": {},
   "outputs": [],
   "source": [
    "crust_thickness = np.zeros(nt)\n",
    "for n in np.arange(nt):\n",
    "    isotherm_idx = len(T[n,T[n]<1200]) - 1\n",
    "    crust_thickness[n] = x[isotherm_idx]"
   ]
  },
  {
   "cell_type": "code",
   "execution_count": 46,
   "metadata": {},
   "outputs": [
    {
     "data": {
      "text/plain": [
       "Text(0, 0.5, 'Crust thickness (km)')"
      ]
     },
     "execution_count": 46,
     "metadata": {},
     "output_type": "execute_result"
    },
    {
     "data": {
      "image/png": "[encoded data removed]",
      "text/plain": [
       "<Figure size 640x480 with 1 Axes>"
      ]
     },
     "metadata": {},
     "output_type": "display_data"
    }
   ],
   "source": [
    "plt.plot(t, crust_thickness)\n",
    "plt.xlabel('Time (yrs)')\n",
    "plt.ylabel('Crust thickness (km)')"
   ]
  },
  {
   "cell_type": "code",
   "execution_count": 1,
   "metadata": {},
   "outputs": [],
   "source": [
    "from heat_equation import solve_T\n",
    "\n",
    "sol = solve_T()\n",
    "T = sol['T']\n",
    "T_ana = sol['T_ana']\n",
    "x = sol['x']\n",
    "t = sol['t']"
   ]
  },
  {
   "cell_type": "code",
   "execution_count": 2,
   "metadata": {},
   "outputs": [
    {
     "data": {
      "text/plain": [
       "array([   0.        ,  179.64027625,  352.37131112,  525.10234598,\n",
       "        678.64104363,  832.17974128,  958.30081436, 1084.42188743,\n",
       "       1180.09994286, 1275.7779983 , 1342.7526371 , 1409.7272759 ,\n",
       "       1452.93672029, 1496.14616468, 1521.80177229, 1547.4573799 ,\n",
       "       1561.45134768, 1575.44531547, 1582.44229936, 1589.43928325,\n",
       "       1592.63790446, 1595.83652567, 1597.16928451, 1598.50204334,\n",
       "       1599.00633047, 1599.5106176 , 1599.68313688, 1599.85565616,\n",
       "       1599.90873901, 1599.96182187, 1599.97641965, 1599.99101744,\n",
       "       1599.99457788, 1599.99813831, 1599.99890126, 1599.99966421,\n",
       "       1599.99980616, 1599.9999481 , 1599.99997068, 1599.99999326,\n",
       "       1599.99999628, 1599.99999929, 1599.99999961, 1599.99999994,\n",
       "       1599.99999997, 1600.        , 1600.        , 1600.        ,\n",
       "       1600.        , 1600.        , 1600.        , 1600.        ,\n",
       "       1600.        , 1600.        , 1600.        , 1600.        ,\n",
       "       1600.        , 1600.        , 1600.        , 1600.        ,\n",
       "       1600.        , 1600.        , 1600.        , 1600.        ,\n",
       "       1600.        , 1600.        , 1600.        , 1600.        ,\n",
       "       1600.        , 1600.        , 1600.        , 1600.        ,\n",
       "       1600.        , 1600.        , 1600.        , 1600.        ,\n",
       "       1600.        , 1600.        , 1600.        , 1600.        ,\n",
       "       1600.        , 1600.        , 1600.        , 1600.        ,\n",
       "       1600.        , 1600.        , 1600.        , 1600.        ,\n",
       "       1600.        , 1600.        , 1600.        , 1600.        ,\n",
       "       1600.        , 1600.        , 1600.        , 1600.        ,\n",
       "       1600.        , 1600.        , 1600.        , 1600.        ])"
      ]
     },
     "execution_count": 2,
     "metadata": {},
     "output_type": "execute_result"
    }
   ],
   "source": [
    "T[50,:]"
   ]
  },
  {
   "cell_type": "code",
   "execution_count": null,
   "metadata": {},
   "outputs": [],
   "source": []
  }
 ],
 "metadata": {
  "kernelspec": {
   "display_name": "base",
   "language": "python",
   "name": "python3"
  },
  "language_info": {
   "codemirror_mode": {
    "name": "ipython",
    "version": 3
   },
   "file_extension": ".py",
   "mimetype": "text/x-python",
   "name": "python",
   "nbconvert_exporter": "python",
   "pygments_lexer": "ipython3",
   "version": "3.11.3"
  }
 },
 "nbformat": 4,
 "nbformat_minor": 2
}
