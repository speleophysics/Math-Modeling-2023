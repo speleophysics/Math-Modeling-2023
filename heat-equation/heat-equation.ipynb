{
 "cells": [
  {
   "cell_type": "code",
   "execution_count": 1,
   "metadata": {},
   "outputs": [],
   "source": [
    "# Imports\n",
    "import numpy as np\n",
    "import matplotlib.pyplot as plt\n",
    "from scipy.special import erf\n",
    "\n",
    "# Define parameters\n",
    "Fo = 0.5\n",
    "nx = 100\n",
    "nt = 100\n",
    "m_per_km = 1000\n",
    "L = 100*m_per_km\n",
    "mm_per_m = 1000\n",
    "kappa = 1.*mm_per_m*mm_per_m # thermal diffusivity 1 mm^2/s converted to m^2/s\n",
    "T_hot = 1600\n",
    "T_ocean = 0.\n",
    "\n",
    "# Define domain and create Temperature array, and set timesteps\n",
    "dx = nx/L\n",
    "dt = Fo*dx**2 / kappa\n",
    "x = np.arange(nx)*dx/m_per_km\n",
    "secs_per_year = 60*60*24*365\n",
    "t = np.arange(nt)*dt/secs_per_year\n",
    "T = np.zeros([nt, nx])\n",
    "\n",
    "# Set initial condition\n",
    "T[0,:] = T_hot\n",
    "# Set boundary conditions\n",
    "T[:,0] = T_ocean\n",
    "T[:,-1] = T_hot\n",
    "\n",
    "# Solve for temperature in loop\n",
    "for n in np.arange(nt-1):\n",
    "    T[n+1,1:-1] = Fo*T[n,2:] + (1 - 2*Fo)*T[n,1:-1] + Fo*T[n,0:-2]\n",
    "\n",
    "# Calculate analytical solution"
   ]
  },
  {
   "cell_type": "code",
   "execution_count": null,
   "metadata": {},
   "outputs": [],
   "source": []
  }
 ],
 "metadata": {
  "kernelspec": {
   "display_name": "base",
   "language": "python",
   "name": "python3"
  },
  "language_info": {
   "codemirror_mode": {
    "name": "ipython",
    "version": 3
   },
   "file_extension": ".py",
   "mimetype": "text/x-python",
   "name": "python",
   "nbconvert_exporter": "python",
   "pygments_lexer": "ipython3",
   "version": "3.11.3"
  }
 },
 "nbformat": 4,
 "nbformat_minor": 2
}
