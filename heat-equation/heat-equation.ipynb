{
 "cells": [
  {
   "cell_type": "code",
   "execution_count": null,
   "metadata": {},
   "outputs": [],
   "source": [
    "# Imports\n",
    "import numpy as np\n",
    "import matplotlib.pyplot as plt\n",
    "from scipy.special import erf\n",
    "\n",
    "# Define parameters\n",
    "Fo = 0.5\n",
    "nx = 100\n",
    "nt = 100\n",
    "m_per_km = 1000\n",
    "L = 100*m_per_km\n",
    "mm_per_m = 1000\n",
    "kappa = 1.*mm_per_m*mm_per_m # thermal diffusivity 1 mm^2/s converted to m^2/s\n",
    "T_hot = 1600\n",
    "T_ocean = 0.\n",
    "\n",
    "# Define domain and create Temperature array, and set timesteps\n",
    "dx = nx/L\n",
    "dt = Fo*dx**2 / kappa\n",
    "x = np.arange(nx)*dx/m_per_km\n",
    "secs_per_year = 60*60*24*365\n",
    "t = np.arange(nt)*dt/secs_per_year\n",
    "T = np.zeros([nt, nx])\n",
    "\n",
    "# Set initial condition\n",
    "T[0,:] = T_hot\n",
    "# Set boundary conditions\n",
    "T[:,0] = T_ocean\n",
    "T[:,-1] = T_hot\n",
    "\n",
    "# Solve for temperature in loop\n",
    "\n",
    "# Calculate analytical solution"
   ]
  }
 ],
 "metadata": {
  "language_info": {
   "name": "python"
  }
 },
 "nbformat": 4,
 "nbformat_minor": 2
}
